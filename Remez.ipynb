{
 "cells": [
  {
   "cell_type": "code",
   "execution_count": 2,
   "metadata": {},
   "outputs": [],
   "source": [
    "import numpy as np\n",
    "import pdb\n",
    "\n",
    "def f(x):\n",
    "    return x**3+2*x+3\n",
    "\n",
    "class Remez():\n",
    "    def __init__(self,n = 2, fun_f = None, x_list_comb = []):\n",
    "        self.n = n # 多项式次数\n",
    "        self.fun_f = fun_f # 给定函数\n",
    "        self.x_list_comb = x_list_comb # 离散点集合\n",
    "        self.f_list_comb = [self.fun_f(x) for x in self.x_list_comb]\n",
    "\n",
    "        self.g_list = None\n",
    "        self.epsilon = None\n",
    "        self.g = None\n",
    "        self.param_list = None # g参数集合\n",
    "        self.e = 1e-12 # 收敛参数\n",
    "        self.__random_choice()\n",
    "\n",
    "    def __random_choice(self):\n",
    "        self.choice = np.random.choice(len(self.x_list_comb), self.n +2,replace = False)\n",
    "        self.choice = list(self.choice) # 标记选点\n",
    "        self.choice.sort() # 排序\n",
    "        self.x_list = [self.x_list_comb[i] for i in self.choice]\n",
    "        self.f_list = [self.fun_f(x) for x in self.x_list]\n",
    "        return\n",
    "    \n",
    "    def __minus(self):\n",
    "        self.g_list = [float(self.g(x)) for x in self.x_list_comb]\n",
    "        diff = [np.abs(self.f_list_comb[i] - self.g_list[i]) for i in range(len(self.x_list_comb))]\n",
    "        #print(self.g_list)\n",
    "        return diff # 全部点计算\n",
    "\n",
    "    def __fit(self):\n",
    "        tmp_M = []\n",
    "        for i in range(self.n+2):\n",
    "            param = [(-1)**i] # epsilon 系数\n",
    "            param.extend([(self.x_list[i])**j for j in range(self.n+1)]) # g系数\n",
    "            tmp_M.append(param)\n",
    "        tmp_M = np.matrix(tmp_M)\n",
    "        #print(tmp_M)\n",
    "        tmp = np.dot(tmp_M.I,np.matrix(self.f_list).T)\n",
    "        self.epsilon = tmp[0]\n",
    "        self.param_list = tmp[1:]\n",
    "        self.g = (lambda x: np.dot([x**i for i in range(self.n+1)],self.param_list)) # g 多项式函数\n",
    "        return\n",
    "    \n",
    "    def main(self):\n",
    "        epsilon_last = 10_000\n",
    "        self.__fit()\n",
    "        while np.abs(self.epsilon - epsilon_last)>self.e:\n",
    "            epsilon_last = self.epsilon\n",
    "            diff = self.__minus()\n",
    "            flag = [(1 if i > self.epsilon else 0) for i in diff]\n",
    "            if sum(flag) == 0 :\n",
    "                break\n",
    "            else: # 重新选点\n",
    "                idx = flag.index(1)\n",
    "                diff_idx = [np.abs(x-idx) for x in self.choice]\n",
    "                replace_idx = diff_idx.index(min(diff_idx))\n",
    "                self.choice[replace_idx] = idx\n",
    "                self.choice.sort() # 排序\n",
    "                self.x_list = [self.x_list_comb[i] for i in self.choice]\n",
    "                self.f_list = [self.fun_f(x) for x in self.x_list]\n",
    "                self.__fit()\n",
    "        return self.param_list\n"
   ]
  },
  {
   "cell_type": "code",
   "execution_count": 3,
   "metadata": {},
   "outputs": [
    {
     "data": {
      "text/plain": [
       "matrix([[ 70.5],\n",
       "        [-53.5],\n",
       "        [ 13.5]])"
      ]
     },
     "execution_count": 3,
     "metadata": {},
     "output_type": "execute_result"
    }
   ],
   "source": [
    "a = Remez(n=2,fun_f=f,x_list_comb=[2,3,4,5,6,7])\n",
    "a.main()"
   ]
  }
 ],
 "metadata": {
  "kernelspec": {
   "display_name": "base",
   "language": "python",
   "name": "python3"
  },
  "language_info": {
   "codemirror_mode": {
    "name": "ipython",
    "version": 3
   },
   "file_extension": ".py",
   "mimetype": "text/x-python",
   "name": "python",
   "nbconvert_exporter": "python",
   "pygments_lexer": "ipython3",
   "version": "3.9.12"
  },
  "orig_nbformat": 4,
  "vscode": {
   "interpreter": {
    "hash": "6ef08a35aa095f7ff813f2c28cb50193de2ac1554043ed2adebb665011faf3fd"
   }
  }
 },
 "nbformat": 4,
 "nbformat_minor": 2
}
